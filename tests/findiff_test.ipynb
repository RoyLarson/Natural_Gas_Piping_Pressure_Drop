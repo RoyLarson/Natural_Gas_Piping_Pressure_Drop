{
 "cells": [
  {
   "cell_type": "code",
   "execution_count": 1,
   "metadata": {},
   "outputs": [],
   "source": [
    "import os\n",
    "import sys\n",
    "\n",
    "sys.path.insert(0, os.path.join(\n",
    "    os.path.dirname(os.getcwd())))\n",
    "import numpy as np\n",
    "from findiff import FinDiff\n",
    "import matplotlib.pyplot as plt\n",
    "import pandas as pd\n",
    "from pressure_drop import piping_pressure_drop\n",
    "%matplotlib inline\n",
    "%load_ext autoreload\n",
    "%autoreload"
   ]
  },
  {
   "cell_type": "code",
   "execution_count": 2,
   "metadata": {},
   "outputs": [],
   "source": [
    "def f(x,y):\n",
    "    return 5*x**2 - 5*x + 10*y**2 -10*y\n",
    "\n",
    "def act_df_dx(x, y):\n",
    "    return 10*x-5\n",
    "\n",
    "def act_df_dy(x, y):\n",
    "    return 20*y-10"
   ]
  },
  {
   "cell_type": "code",
   "execution_count": 3,
   "metadata": {},
   "outputs": [
    {
     "name": "stdout",
     "output_type": "stream",
     "text": [
      "[-0.01  0.    0.01]\n",
      "[array([-0.01,  0.  ,  0.01]), array([0., 0., 0.])]\n",
      "[-5.1 -5.  -4.9]\n"
     ]
    },
    {
     "name": "stderr",
     "output_type": "stream",
     "text": [
      "C:\\ProgramData\\Anaconda3\\lib\\site-packages\\findiff\\findiff.py:242: FutureWarning: Using a non-tuple sequence for multidimensional indexing is deprecated; use `arr[tuple(seq)]` instead of `arr[seq]`. In the future this will be interpreted as an array index, `arr[np.array(seq)]`, which will result either in an error or a different result.\n",
      "  yd[ref_multi_slice] += w * y[off_multi_slice]\n"
     ]
    },
    {
     "data": {
      "text/plain": [
       "-5.0"
      ]
     },
     "execution_count": 3,
     "metadata": {},
     "output_type": "execute_result"
    }
   ],
   "source": [
    "piping_pressure_drop.finite_partial(f,.01, 0,2, [0,0])"
   ]
  },
  {
   "cell_type": "code",
   "execution_count": 4,
   "metadata": {},
   "outputs": [
    {
     "data": {
      "text/plain": [
       "array([[-10.],\n",
       "       [ -9.],\n",
       "       [ -8.],\n",
       "       [ -7.],\n",
       "       [ -6.],\n",
       "       [ -5.],\n",
       "       [ -4.],\n",
       "       [ -3.],\n",
       "       [ -2.],\n",
       "       [ -1.],\n",
       "       [  0.]])"
      ]
     },
     "execution_count": 4,
     "metadata": {},
     "output_type": "execute_result"
    }
   ],
   "source": [
    "x = np.linspace(-10,0, 11).reshape((-1,1))\n",
    "y = np.linspace(0,10,11).reshape((-1,1))\n",
    "x"
   ]
  },
  {
   "cell_type": "code",
   "execution_count": 5,
   "metadata": {},
   "outputs": [
    {
     "data": {
      "text/plain": [
       "array([[ 0.],\n",
       "       [ 1.],\n",
       "       [ 2.],\n",
       "       [ 3.],\n",
       "       [ 4.],\n",
       "       [ 5.],\n",
       "       [ 6.],\n",
       "       [ 7.],\n",
       "       [ 8.],\n",
       "       [ 9.],\n",
       "       [10.]])"
      ]
     },
     "execution_count": 5,
     "metadata": {},
     "output_type": "execute_result"
    }
   ],
   "source": [
    "y"
   ]
  },
  {
   "cell_type": "code",
   "execution_count": 6,
   "metadata": {},
   "outputs": [
    {
     "name": "stdout",
     "output_type": "stream",
     "text": [
      "[[550.]\n",
      " [450.]\n",
      " [380.]\n",
      " [340.]\n",
      " [330.]\n",
      " [350.]\n",
      " [400.]\n",
      " [480.]\n",
      " [590.]\n",
      " [730.]\n",
      " [900.]]\n"
     ]
    }
   ],
   "source": [
    "f_x_y = f(x,y)\n",
    "print(f_x_y)"
   ]
  },
  {
   "cell_type": "code",
   "execution_count": 7,
   "metadata": {},
   "outputs": [
    {
     "data": {
      "text/plain": [
       "array([[-105.],\n",
       "       [ -95.],\n",
       "       [ -85.],\n",
       "       [ -75.],\n",
       "       [ -65.],\n",
       "       [ -55.],\n",
       "       [ -45.],\n",
       "       [ -35.],\n",
       "       [ -25.],\n",
       "       [ -15.],\n",
       "       [  -5.]])"
      ]
     },
     "execution_count": 7,
     "metadata": {},
     "output_type": "execute_result"
    }
   ],
   "source": [
    "df_dx = act_df_dx(x,y)\n",
    "df_dx"
   ]
  },
  {
   "cell_type": "code",
   "execution_count": 8,
   "metadata": {},
   "outputs": [
    {
     "data": {
      "text/plain": [
       "array([[-10.],\n",
       "       [ 10.],\n",
       "       [ 30.],\n",
       "       [ 50.],\n",
       "       [ 70.],\n",
       "       [ 90.],\n",
       "       [110.],\n",
       "       [130.],\n",
       "       [150.],\n",
       "       [170.],\n",
       "       [190.]])"
      ]
     },
     "execution_count": 8,
     "metadata": {},
     "output_type": "execute_result"
    }
   ],
   "source": [
    "df_dy = act_df_dy(x,y)\n",
    "df_dy"
   ]
  },
  {
   "cell_type": "code",
   "execution_count": 24,
   "metadata": {},
   "outputs": [],
   "source": [
    "diff_length = .1  # Findiff uses the grid spacing doesn't reevaluate around points using this\n",
    "d_dx = FinDiff(0,x[1]-x[0])\n",
    "d_dy = FinDiff(1,y[1]-y[0])\n",
    "y_1 = np.zeros(len(x))+1\n",
    "points = [x,y_1]"
   ]
  },
  {
   "cell_type": "code",
   "execution_count": 25,
   "metadata": {},
   "outputs": [],
   "source": [
    "findiff_df_dx = d_dx(f(*points))"
   ]
  },
  {
   "cell_type": "code",
   "execution_count": 26,
   "metadata": {},
   "outputs": [
    {
     "data": {
      "text/plain": [
       "array([-105.,  -95.,  -85.,  -75.,  -65.,  -55.,  -45.,  -35.,  -25.,\n",
       "        -15.,   -5.])"
      ]
     },
     "execution_count": 26,
     "metadata": {},
     "output_type": "execute_result"
    }
   ],
   "source": [
    "findiff_df_dx"
   ]
  },
  {
   "cell_type": "code",
   "execution_count": 18,
   "metadata": {},
   "outputs": [],
   "source": [
    "diff = .01\n",
    "x = np.linspace(-10,0,11)\n",
    "y = np.linspace(0,10,11)\n",
    "\n",
    "X, Y = np.meshgrid(x, y, indexing='ij')\n",
    "\n",
    "d_dx = FinDiff(0, x[1]-x[0])\n",
    "\n",
    "df_dx = d_dx(f(X, Y))"
   ]
  },
  {
   "cell_type": "code",
   "execution_count": 19,
   "metadata": {},
   "outputs": [
    {
     "data": {
      "text/plain": [
       "array([[-105., -105., -105., -105., -105., -105., -105., -105., -105.,\n",
       "        -105., -105.],\n",
       "       [ -95.,  -95.,  -95.,  -95.,  -95.,  -95.,  -95.,  -95.,  -95.,\n",
       "         -95.,  -95.],\n",
       "       [ -85.,  -85.,  -85.,  -85.,  -85.,  -85.,  -85.,  -85.,  -85.,\n",
       "         -85.,  -85.],\n",
       "       [ -75.,  -75.,  -75.,  -75.,  -75.,  -75.,  -75.,  -75.,  -75.,\n",
       "         -75.,  -75.],\n",
       "       [ -65.,  -65.,  -65.,  -65.,  -65.,  -65.,  -65.,  -65.,  -65.,\n",
       "         -65.,  -65.],\n",
       "       [ -55.,  -55.,  -55.,  -55.,  -55.,  -55.,  -55.,  -55.,  -55.,\n",
       "         -55.,  -55.],\n",
       "       [ -45.,  -45.,  -45.,  -45.,  -45.,  -45.,  -45.,  -45.,  -45.,\n",
       "         -45.,  -45.],\n",
       "       [ -35.,  -35.,  -35.,  -35.,  -35.,  -35.,  -35.,  -35.,  -35.,\n",
       "         -35.,  -35.],\n",
       "       [ -25.,  -25.,  -25.,  -25.,  -25.,  -25.,  -25.,  -25.,  -25.,\n",
       "         -25.,  -25.],\n",
       "       [ -15.,  -15.,  -15.,  -15.,  -15.,  -15.,  -15.,  -15.,  -15.,\n",
       "         -15.,  -15.],\n",
       "       [  -5.,   -5.,   -5.,   -5.,   -5.,   -5.,   -5.,   -5.,   -5.,\n",
       "          -5.,   -5.]])"
      ]
     },
     "execution_count": 19,
     "metadata": {},
     "output_type": "execute_result"
    }
   ],
   "source": [
    "df_dx"
   ]
  },
  {
   "cell_type": "code",
   "execution_count": 20,
   "metadata": {},
   "outputs": [
    {
     "ename": "TypeError",
     "evalue": "f() missing 1 required positional argument: 'y'",
     "output_type": "error",
     "traceback": [
      "\u001b[1;31m---------------------------------------------------------------------------\u001b[0m",
      "\u001b[1;31mTypeError\u001b[0m                                 Traceback (most recent call last)",
      "\u001b[1;32m<ipython-input-20-59124fd8c36e>\u001b[0m in \u001b[0;36m<module>\u001b[1;34m\u001b[0m\n\u001b[1;32m----> 1\u001b[1;33m \u001b[0mdf_0_0_dx\u001b[0m \u001b[1;33m=\u001b[0m \u001b[0md_dx\u001b[0m\u001b[1;33m(\u001b[0m\u001b[0mf\u001b[0m\u001b[1;33m(\u001b[0m\u001b[1;33m(\u001b[0m\u001b[1;36m0\u001b[0m\u001b[1;33m,\u001b[0m\u001b[1;36m0\u001b[0m\u001b[1;33m)\u001b[0m\u001b[1;33m)\u001b[0m\u001b[1;33m)\u001b[0m\u001b[1;33m\u001b[0m\u001b[0m\n\u001b[0m",
      "\u001b[1;31mTypeError\u001b[0m: f() missing 1 required positional argument: 'y'"
     ]
    }
   ],
   "source": [
    "df_0_0_dx = d_dx(f((0,0)))"
   ]
  },
  {
   "cell_type": "code",
   "execution_count": 23,
   "metadata": {},
   "outputs": [
    {
     "data": {
      "text/plain": [
       "array([0.97, 0.98, 0.99, 1.  , 1.01, 1.02, 1.03])"
      ]
     },
     "execution_count": 23,
     "metadata": {},
     "output_type": "execute_result"
    }
   ],
   "source": [
    "dt = .01\n",
    "t = 1\n",
    "a = np.arange(t-3*dt, t+3*dt, dt )\n",
    "a"
   ]
  },
  {
   "cell_type": "code",
   "execution_count": null,
   "metadata": {},
   "outputs": [],
   "source": []
  }
 ],
 "metadata": {
  "kernelspec": {
   "display_name": "Python 3",
   "language": "python",
   "name": "python3"
  },
  "language_info": {
   "codemirror_mode": {
    "name": "ipython",
    "version": 3
   },
   "file_extension": ".py",
   "mimetype": "text/x-python",
   "name": "python",
   "nbconvert_exporter": "python",
   "pygments_lexer": "ipython3",
   "version": "3.6.6"
  }
 },
 "nbformat": 4,
 "nbformat_minor": 2
}
