{
 "cells": [
  {
   "cell_type": "code",
   "execution_count": 1,
   "metadata": {},
   "outputs": [],
   "source": [
    "import numpy as np\n",
    "from findiff import FinDiff\n",
    "import matplotlib.pyplot as plt\n",
    "import pandas as pd\n",
    "%matplotlib inline"
   ]
  },
  {
   "cell_type": "code",
   "execution_count": 2,
   "metadata": {},
   "outputs": [],
   "source": [
    "def f(x,y):\n",
    "    return 5*x**2 - 5*x + 10*y**2 -10*y\n",
    "\n",
    "def act_df_dx(x, y):\n",
    "    return 10*x-5\n",
    "\n",
    "def act_df_dy(x, y):\n",
    "    return 20*y-10"
   ]
  },
  {
   "cell_type": "code",
   "execution_count": 3,
   "metadata": {},
   "outputs": [
    {
     "data": {
      "text/plain": [
       "array([[-10.],\n",
       "       [ -9.],\n",
       "       [ -8.],\n",
       "       [ -7.],\n",
       "       [ -6.],\n",
       "       [ -5.],\n",
       "       [ -4.],\n",
       "       [ -3.],\n",
       "       [ -2.],\n",
       "       [ -1.],\n",
       "       [  0.]])"
      ]
     },
     "execution_count": 3,
     "metadata": {},
     "output_type": "execute_result"
    }
   ],
   "source": [
    "x = np.linspace(-10,0, 11).reshape((-1,1))\n",
    "y = np.linspace(0,10,11).reshape((-1,1))\n",
    "x"
   ]
  },
  {
   "cell_type": "code",
   "execution_count": 4,
   "metadata": {},
   "outputs": [
    {
     "data": {
      "text/plain": [
       "array([[ 0.],\n",
       "       [ 1.],\n",
       "       [ 2.],\n",
       "       [ 3.],\n",
       "       [ 4.],\n",
       "       [ 5.],\n",
       "       [ 6.],\n",
       "       [ 7.],\n",
       "       [ 8.],\n",
       "       [ 9.],\n",
       "       [10.]])"
      ]
     },
     "execution_count": 4,
     "metadata": {},
     "output_type": "execute_result"
    }
   ],
   "source": [
    "y"
   ]
  },
  {
   "cell_type": "code",
   "execution_count": 5,
   "metadata": {},
   "outputs": [
    {
     "name": "stdout",
     "output_type": "stream",
     "text": [
      "[[550.]\n",
      " [450.]\n",
      " [380.]\n",
      " [340.]\n",
      " [330.]\n",
      " [350.]\n",
      " [400.]\n",
      " [480.]\n",
      " [590.]\n",
      " [730.]\n",
      " [900.]]\n"
     ]
    }
   ],
   "source": [
    "f_x_y = f(x,y)\n",
    "print(f_x_y)"
   ]
  },
  {
   "cell_type": "code",
   "execution_count": 6,
   "metadata": {},
   "outputs": [
    {
     "data": {
      "text/plain": [
       "array([[-105.],\n",
       "       [ -95.],\n",
       "       [ -85.],\n",
       "       [ -75.],\n",
       "       [ -65.],\n",
       "       [ -55.],\n",
       "       [ -45.],\n",
       "       [ -35.],\n",
       "       [ -25.],\n",
       "       [ -15.],\n",
       "       [  -5.]])"
      ]
     },
     "execution_count": 6,
     "metadata": {},
     "output_type": "execute_result"
    }
   ],
   "source": [
    "df_dx = act_df_dx(x,y)\n",
    "df_dx"
   ]
  },
  {
   "cell_type": "code",
   "execution_count": 7,
   "metadata": {},
   "outputs": [
    {
     "data": {
      "text/plain": [
       "array([[-10.],\n",
       "       [ 10.],\n",
       "       [ 30.],\n",
       "       [ 50.],\n",
       "       [ 70.],\n",
       "       [ 90.],\n",
       "       [110.],\n",
       "       [130.],\n",
       "       [150.],\n",
       "       [170.],\n",
       "       [190.]])"
      ]
     },
     "execution_count": 7,
     "metadata": {},
     "output_type": "execute_result"
    }
   ],
   "source": [
    "df_dy = act_df_dy(x,y)\n",
    "df_dy"
   ]
  },
  {
   "cell_type": "code",
   "execution_count": 10,
   "metadata": {},
   "outputs": [],
   "source": [
    "diff_length = .1\n",
    "d_dx = FinDiff(0,diff_length)\n",
    "d_dy = FinDiff(1,diff_length)"
   ]
  },
  {
   "cell_type": "code",
   "execution_count": 12,
   "metadata": {},
   "outputs": [],
   "source": [
    "points = np.array(list(zip(x,y)))"
   ]
  },
  {
   "cell_type": "code",
   "execution_count": 17,
   "metadata": {},
   "outputs": [
    {
     "ename": "TypeError",
     "evalue": "f() missing 1 required positional argument: 'y'",
     "output_type": "error",
     "traceback": [
      "\u001b[1;31m---------------------------------------------------------------------------\u001b[0m",
      "\u001b[1;31mTypeError\u001b[0m                                 Traceback (most recent call last)",
      "\u001b[1;32m<ipython-input-17-2828654c5f2d>\u001b[0m in \u001b[0;36m<module>\u001b[1;34m\u001b[0m\n\u001b[1;32m----> 1\u001b[1;33m \u001b[0mfindiff_df_dx\u001b[0m \u001b[1;33m=\u001b[0m \u001b[0md_dx\u001b[0m\u001b[1;33m(\u001b[0m\u001b[0mf\u001b[0m\u001b[1;33m(\u001b[0m\u001b[0mpoints\u001b[0m\u001b[1;33m)\u001b[0m\u001b[1;33m)\u001b[0m\u001b[1;33m\u001b[0m\u001b[0m\n\u001b[0m",
      "\u001b[1;31mTypeError\u001b[0m: f() missing 1 required positional argument: 'y'"
     ]
    }
   ],
   "source": [
    "findiff_df_dx = d_dx(f(points))"
   ]
  },
  {
   "cell_type": "code",
   "execution_count": 18,
   "metadata": {},
   "outputs": [
    {
     "data": {
      "text/plain": [
       "array([[-1150.],\n",
       "       [ -850.],\n",
       "       [ -550.],\n",
       "       [ -250.],\n",
       "       [   50.],\n",
       "       [  350.],\n",
       "       [  650.],\n",
       "       [  950.],\n",
       "       [ 1250.],\n",
       "       [ 1550.],\n",
       "       [ 1850.]])"
      ]
     },
     "execution_count": 18,
     "metadata": {},
     "output_type": "execute_result"
    }
   ],
   "source": [
    "findiff_df_dx"
   ]
  },
  {
   "cell_type": "code",
   "execution_count": 14,
   "metadata": {},
   "outputs": [],
   "source": [
    "diff = .01\n",
    "x = np.linspace(-10,0,11)\n",
    "y = np.linspace(0,10,11)\n",
    "\n",
    "X, Y = np.meshgrid(x, y, indexing='ij')\n",
    "\n",
    "d_dx = FinDiff(0, diff)\n",
    "\n",
    "df_dx = d_dx(f(X, Y))"
   ]
  },
  {
   "cell_type": "code",
   "execution_count": 15,
   "metadata": {},
   "outputs": [
    {
     "data": {
      "text/plain": [
       "array([[-10500., -10500., -10500., -10500., -10500., -10500., -10500.,\n",
       "        -10500., -10500., -10500., -10500.],\n",
       "       [ -9500.,  -9500.,  -9500.,  -9500.,  -9500.,  -9500.,  -9500.,\n",
       "         -9500.,  -9500.,  -9500.,  -9500.],\n",
       "       [ -8500.,  -8500.,  -8500.,  -8500.,  -8500.,  -8500.,  -8500.,\n",
       "         -8500.,  -8500.,  -8500.,  -8500.],\n",
       "       [ -7500.,  -7500.,  -7500.,  -7500.,  -7500.,  -7500.,  -7500.,\n",
       "         -7500.,  -7500.,  -7500.,  -7500.],\n",
       "       [ -6500.,  -6500.,  -6500.,  -6500.,  -6500.,  -6500.,  -6500.,\n",
       "         -6500.,  -6500.,  -6500.,  -6500.],\n",
       "       [ -5500.,  -5500.,  -5500.,  -5500.,  -5500.,  -5500.,  -5500.,\n",
       "         -5500.,  -5500.,  -5500.,  -5500.],\n",
       "       [ -4500.,  -4500.,  -4500.,  -4500.,  -4500.,  -4500.,  -4500.,\n",
       "         -4500.,  -4500.,  -4500.,  -4500.],\n",
       "       [ -3500.,  -3500.,  -3500.,  -3500.,  -3500.,  -3500.,  -3500.,\n",
       "         -3500.,  -3500.,  -3500.,  -3500.],\n",
       "       [ -2500.,  -2500.,  -2500.,  -2500.,  -2500.,  -2500.,  -2500.,\n",
       "         -2500.,  -2500.,  -2500.,  -2500.],\n",
       "       [ -1500.,  -1500.,  -1500.,  -1500.,  -1500.,  -1500.,  -1500.,\n",
       "         -1500.,  -1500.,  -1500.,  -1500.],\n",
       "       [  -500.,   -500.,   -500.,   -500.,   -500.,   -500.,   -500.,\n",
       "          -500.,   -500.,   -500.,   -500.]])"
      ]
     },
     "execution_count": 15,
     "metadata": {},
     "output_type": "execute_result"
    }
   ],
   "source": [
    "df_dx"
   ]
  },
  {
   "cell_type": "code",
   "execution_count": 20,
   "metadata": {},
   "outputs": [
    {
     "ename": "TypeError",
     "evalue": "f() missing 1 required positional argument: 'y'",
     "output_type": "error",
     "traceback": [
      "\u001b[1;31m---------------------------------------------------------------------------\u001b[0m",
      "\u001b[1;31mTypeError\u001b[0m                                 Traceback (most recent call last)",
      "\u001b[1;32m<ipython-input-20-59124fd8c36e>\u001b[0m in \u001b[0;36m<module>\u001b[1;34m\u001b[0m\n\u001b[1;32m----> 1\u001b[1;33m \u001b[0mdf_0_0_dx\u001b[0m \u001b[1;33m=\u001b[0m \u001b[0md_dx\u001b[0m\u001b[1;33m(\u001b[0m\u001b[0mf\u001b[0m\u001b[1;33m(\u001b[0m\u001b[1;33m(\u001b[0m\u001b[1;36m0\u001b[0m\u001b[1;33m,\u001b[0m\u001b[1;36m0\u001b[0m\u001b[1;33m)\u001b[0m\u001b[1;33m)\u001b[0m\u001b[1;33m)\u001b[0m\u001b[1;33m\u001b[0m\u001b[0m\n\u001b[0m",
      "\u001b[1;31mTypeError\u001b[0m: f() missing 1 required positional argument: 'y'"
     ]
    }
   ],
   "source": [
    "df_0_0_dx = d_dx(f((0,0)))"
   ]
  },
  {
   "cell_type": "code",
   "execution_count": null,
   "metadata": {},
   "outputs": [],
   "source": []
  }
 ],
 "metadata": {
  "kernelspec": {
   "display_name": "Python 3",
   "language": "python",
   "name": "python3"
  },
  "language_info": {
   "codemirror_mode": {
    "name": "ipython",
    "version": 3
   },
   "file_extension": ".py",
   "mimetype": "text/x-python",
   "name": "python",
   "nbconvert_exporter": "python",
   "pygments_lexer": "ipython3",
   "version": "3.6.6"
  }
 },
 "nbformat": 4,
 "nbformat_minor": 2
}
